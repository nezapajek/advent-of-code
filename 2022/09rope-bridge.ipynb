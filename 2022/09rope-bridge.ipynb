{
 "cells": [
  {
   "cell_type": "markdown",
   "id": "6bfa57a7",
   "metadata": {},
   "source": [
    "### Day 9"
   ]
  },
  {
   "cell_type": "code",
   "execution_count": 1,
   "id": "61b5adca",
   "metadata": {},
   "outputs": [],
   "source": [
    "import numpy as np"
   ]
  },
  {
   "cell_type": "code",
   "execution_count": 4,
   "id": "a556fd56",
   "metadata": {},
   "outputs": [],
   "source": [
    "# import data\n",
    "filename = '09_test.txt'\n",
    "#filename = '09_data.txt'\n",
    "raw = open(f'./data/{filename}').read()"
   ]
  },
  {
   "cell_type": "code",
   "execution_count": 29,
   "id": "782b4d86",
   "metadata": {},
   "outputs": [],
   "source": [
    "direction = {\n",
    "    'R': [1, 0],\n",
    "    'L': [-1, 0],\n",
    "    'U': [0, 1],\n",
    "    'D': [0, -1]\n",
    "}\n",
    "\n",
    "# define data process function\n",
    "def parse_data(data):\n",
    "    data = data.split('\\n')\n",
    "    data = [d.split(' ') for d in data]\n",
    "    data = [(direction[d[0]], int(d[1])) for d in data]\n",
    "    return data\n",
    "\n",
    "data = parse_data(raw)"
   ]
  },
  {
   "cell_type": "code",
   "execution_count": 34,
   "id": "cd45bd6e",
   "metadata": {},
   "outputs": [
    {
     "data": {
      "text/plain": [
       "[([1, 0], 4),\n",
       " ([0, 1], 4),\n",
       " ([-1, 0], 3),\n",
       " ([0, -1], 1),\n",
       " ([1, 0], 4),\n",
       " ([0, -1], 1),\n",
       " ([-1, 0], 5),\n",
       " ([1, 0], 2)]"
      ]
     },
     "execution_count": 34,
     "metadata": {},
     "output_type": "execute_result"
    }
   ],
   "source": [
    "# list of tuples\n",
    "data"
   ]
  },
  {
   "cell_type": "markdown",
   "id": "ba3aaa60",
   "metadata": {},
   "source": [
    "### Part 1"
   ]
  },
  {
   "cell_type": "code",
   "execution_count": null,
   "id": "096aca2f",
   "metadata": {},
   "outputs": [],
   "source": []
  }
 ],
 "metadata": {
  "kernelspec": {
   "display_name": "Python 3 (ipykernel)",
   "language": "python",
   "name": "python3"
  },
  "language_info": {
   "codemirror_mode": {
    "name": "ipython",
    "version": 3
   },
   "file_extension": ".py",
   "mimetype": "text/x-python",
   "name": "python",
   "nbconvert_exporter": "python",
   "pygments_lexer": "ipython3",
   "version": "3.9.12"
  }
 },
 "nbformat": 4,
 "nbformat_minor": 5
}
