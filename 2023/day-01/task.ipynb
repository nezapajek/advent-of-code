{
 "cells": [
  {
   "cell_type": "code",
   "execution_count": 135,
   "metadata": {},
   "outputs": [],
   "source": [
    "import ast\n",
    "import copy\n",
    "import re\n",
    "\n",
    "import matplotlib.pyplot as plt\n",
    "import numpy as np\n",
    "import pandas as pd\n",
    "from aocd import get_data, submit\n",
    "\n",
    "DAY = 1\n",
    "YEAR = 2023"
   ]
  },
  {
   "cell_type": "code",
   "execution_count": 194,
   "metadata": {},
   "outputs": [],
   "source": [
    "# use test data\n",
    "raw_test = \"\"\"two1nine\n",
    "eightwothree\n",
    "abcone2threexyz\n",
    "xtwone3four\n",
    "4nineeightseven2\n",
    "zoneight234\n",
    "7pqrstsixteen\"\"\"\n",
    "\n",
    "# use real data\n",
    "raw = get_data(day=DAY, year=YEAR)"
   ]
  },
  {
   "cell_type": "code",
   "execution_count": 176,
   "metadata": {},
   "outputs": [],
   "source": [
    "def parse_data(data):\n",
    "    parsed_data = [d for d in data.split(\"\\n\")]\n",
    "    return parsed_data\n",
    "\n",
    "\n",
    "dummy = parse_data(raw_test)\n",
    "real = parse_data(raw)"
   ]
  },
  {
   "cell_type": "markdown",
   "metadata": {},
   "source": [
    "# Part 1"
   ]
  },
  {
   "cell_type": "code",
   "execution_count": 88,
   "metadata": {},
   "outputs": [],
   "source": [
    "def sum_of_calibration_vals(data):\n",
    "    data_first = [re.findall(r\"\\d\", d)[0] for d in data]\n",
    "    data_last = [re.findall(r\"\\d\", d)[-1] for d in data]\n",
    "    output = [d + v for d, v in zip(data_first, data_last)]\n",
    "    sum_out = sum([int(i) for i in output])\n",
    "    return sum_out\n",
    "\n",
    "\n",
    "result = sum_of_calibration_vals(real)"
   ]
  },
  {
   "cell_type": "code",
   "execution_count": 92,
   "metadata": {},
   "outputs": [
    {
     "name": "stdout",
     "output_type": "stream",
     "text": [
      "\u001b[32mThat's the right answer!  You are one gold star closer to restoring snow operations. [Continue to Part Two]\u001b[0m\n"
     ]
    },
    {
     "data": {
      "text/plain": [
       "<urllib3.response.HTTPResponse at 0x12a78ae30>"
      ]
     },
     "execution_count": 92,
     "metadata": {},
     "output_type": "execute_result"
    }
   ],
   "source": [
    "submit(result, part=\"a\", day=DAY, year=YEAR)"
   ]
  },
  {
   "cell_type": "markdown",
   "metadata": {},
   "source": [
    "# Part 2"
   ]
  },
  {
   "cell_type": "code",
   "execution_count": 191,
   "metadata": {},
   "outputs": [],
   "source": [
    "# define substitution dictionary\n",
    "nums_dict = {\n",
    "    \"zero\": \"ze0ro\",\n",
    "    \"one\": \"o1ne\",\n",
    "    \"two\": \"tw2o\",\n",
    "    \"three\": \"thre3e\",\n",
    "    \"four\": \"fou4r\",\n",
    "    \"five\": \"fi5ve\",\n",
    "    \"six\": \"s6ix\",\n",
    "    \"seven\": \"se7ven\",\n",
    "    \"eight\": \"eig8ht\",\n",
    "    \"nine\": \"ni9ne\",\n",
    "    \"ten\": \"te10n\",\n",
    "    \"eleven\": \"elev11en\",\n",
    "    \"twelve\": \"twelv12e\",\n",
    "    \"thirteen\": \"thirt13en\",\n",
    "    \"fourteen\": \"fourt14een\",\n",
    "    \"fifteen\": \"fifte15en\",\n",
    "    \"sixteen\": \"sixt16een\",\n",
    "    \"seventeen\": \"sevent17een\",\n",
    "    \"eighteen\": \"eighte18en\",\n",
    "    \"nineteen\": \"ninet19een\",\n",
    "    \"twenty\": \"twent20y\",\n",
    "}"
   ]
  },
  {
   "cell_type": "code",
   "execution_count": 193,
   "metadata": {},
   "outputs": [],
   "source": [
    "for k, v in nums_dict.items():\n",
    "    real = [i.replace(k, str(v)) for i in real]\n",
    "\n",
    "result = sum_of_calibration_vals(real)"
   ]
  },
  {
   "cell_type": "code",
   "execution_count": 189,
   "metadata": {},
   "outputs": [
    {
     "name": "stdout",
     "output_type": "stream",
     "text": [
      "\u001b[32mThat's the right answer!  You are one gold star closer to restoring snow operations.You have completed Day 1! You can [Shareon\n",
      "  Twitter\n",
      "Mastodon] this victory or [Return to Your Advent Calendar].\u001b[0m\n"
     ]
    },
    {
     "data": {
      "text/plain": [
       "<urllib3.response.HTTPResponse at 0x129a12f80>"
      ]
     },
     "execution_count": 189,
     "metadata": {},
     "output_type": "execute_result"
    }
   ],
   "source": [
    "submit(result, part=\"b\", day=DAY, year=YEAR)"
   ]
  }
 ],
 "metadata": {
  "kernelspec": {
   "display_name": "Python 3.10.4 64-bit ('aoc-2022')",
   "language": "python",
   "name": "python3"
  },
  "language_info": {
   "codemirror_mode": {
    "name": "ipython",
    "version": 3
   },
   "file_extension": ".py",
   "mimetype": "text/x-python",
   "name": "python",
   "nbconvert_exporter": "python",
   "pygments_lexer": "ipython3",
   "version": "3.12.0"
  },
  "orig_nbformat": 4,
  "vscode": {
   "interpreter": {
    "hash": "5624460fa9e1cd9da4e6994541d8ff42604db2bd2a1d59618c452d0f7bde50e7"
   }
  }
 },
 "nbformat": 4,
 "nbformat_minor": 2
}
