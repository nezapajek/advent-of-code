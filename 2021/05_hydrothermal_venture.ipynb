{
 "cells": [
  {
   "cell_type": "markdown",
   "id": "8383627b",
   "metadata": {},
   "source": [
    "# ADVENT OF CODE - DAY 5 - Hydrothermal Venture"
   ]
  },
  {
   "cell_type": "code",
   "execution_count": 252,
   "id": "7825b4fd",
   "metadata": {},
   "outputs": [],
   "source": [
    "import re\n",
    "import numpy as np\n",
    "import pandas as pd"
   ]
  },
  {
   "cell_type": "code",
   "execution_count": 253,
   "id": "31b880a7",
   "metadata": {},
   "outputs": [],
   "source": [
    "# import data\n",
    "#filename = '05_test.txt'\n",
    "filename = '05_data.txt'\n",
    "raw = open(f'./data/{filename}').read()"
   ]
  },
  {
   "cell_type": "code",
   "execution_count": 266,
   "id": "f0894500",
   "metadata": {
    "scrolled": true
   },
   "outputs": [],
   "source": [
    "def prepare_data1(data):\n",
    "    data = data.split('\\n')\n",
    "    data = [re.findall('\\d+', d) for d in data]\n",
    "    return np.array(data, dtype=int)\n",
    "\n",
    "data = prepare_data1(raw)"
   ]
  },
  {
   "cell_type": "code",
   "execution_count": 265,
   "id": "d9bdf4e1",
   "metadata": {},
   "outputs": [],
   "source": [
    "def straight_line_filter1(lines):\n",
    "    filtered_lines = []\n",
    "    for line in lines:\n",
    "        is_vertical = line[0] == line[2]\n",
    "        is_horizontal = line[1] == line[3]\n",
    "        if is_vertical or is_horizontal:\n",
    "            filtered_lines.append(line)\n",
    "    return filtered_lines\n",
    "\n",
    "f_data = straight_line_filter1(data)"
   ]
  },
  {
   "cell_type": "code",
   "execution_count": 256,
   "id": "2c8de3d1",
   "metadata": {},
   "outputs": [
    {
     "data": {
      "text/plain": [
       "6007"
      ]
     },
     "execution_count": 256,
     "metadata": {},
     "output_type": "execute_result"
    }
   ],
   "source": [
    "def count_overlaps(data):\n",
    "    dic = {}\n",
    "    for line in data:\n",
    "        x1,y1,x2,y2 = line\n",
    "        x1,x2 = (x1,x2) if x1<x2 else (x2,x1) # if negative vertical, change order\n",
    "        y1,y2 = (y1,y2) if y1<y2 else (y2,y1) # if negative horizontal, change order\n",
    "        \n",
    "        is_vertical = y1==y2\n",
    "        is_horizonal = x1==x2\n",
    "        \n",
    "        if is_horizonal:\n",
    "            for y in range(y1,y2+1):\n",
    "                if (x1,y) in dic: #check if key already exists\n",
    "                    dic[(x1,y)]+=1\n",
    "                else:\n",
    "                    dic[(x1,y)]=1\n",
    "        else:\n",
    "            for x in range(x1,x2+1):\n",
    "                if (x,y1) in dic: #check if key already exists\n",
    "                    dic[(x,y1)]+=1\n",
    "                else:\n",
    "                    dic[(x,y1)]=1\n",
    "    \n",
    "    sum_overlaps = sum(1 for i in dic.values() if i >= 2)\n",
    "    return sum_overlaps\n",
    "\n",
    "count_overlaps(f_data)"
   ]
  },
  {
   "cell_type": "markdown",
   "id": "c92b4050",
   "metadata": {},
   "source": [
    "### Part2"
   ]
  },
  {
   "cell_type": "code",
   "execution_count": 257,
   "id": "e2d5ac47",
   "metadata": {
    "scrolled": false
   },
   "outputs": [
    {
     "data": {
      "text/plain": [
       "19349"
      ]
     },
     "execution_count": 257,
     "metadata": {},
     "output_type": "execute_result"
    }
   ],
   "source": [
    "def count_overlaps_all(data):\n",
    "    dic = {}\n",
    "    for line in data:\n",
    "        x1,y1,x2,y2 = line\n",
    "    \n",
    "        xstep = 1 if x1 < x2 else -1\n",
    "        ystep = 1 if y1 < y2 else -1\n",
    "        \n",
    "        xrange = range(x1,x2+xstep,xstep)\n",
    "        yrange = range(y1,y2+ystep,ystep)\n",
    "        \n",
    "        if x1==x2:\n",
    "            for y in yrange:\n",
    "                if (x1,y) in dic: #check if key already exists\n",
    "                    dic[(x1,y)]+=1\n",
    "                else:\n",
    "                    dic[(x1,y)]=1\n",
    "        elif y1==y2:\n",
    "            for x in xrange:\n",
    "                if (x,y1) in dic:\n",
    "                    dic[(x,y1)]+=1\n",
    "                else:\n",
    "                    dic[(x,y1)]=1\n",
    "        else:\n",
    "            for x,y in zip(xrange,yrange):\n",
    "                if (x,y) in dic:\n",
    "                    dic[(x,y)]+=1\n",
    "                else:\n",
    "                    dic[(x,y)]=1\n",
    "        \n",
    "    \n",
    "    sum_overlaps = sum(1 for i in dic.values() if i >= 2)\n",
    "    return sum_overlaps\n",
    "\n",
    "count_overlaps_all(data)"
   ]
  },
  {
   "cell_type": "markdown",
   "id": "c47cab7a",
   "metadata": {},
   "source": [
    "### shorter version"
   ]
  },
  {
   "cell_type": "code",
   "execution_count": 264,
   "id": "aa3c37ee",
   "metadata": {},
   "outputs": [
    {
     "data": {
      "text/plain": [
       "19349"
      ]
     },
     "execution_count": 264,
     "metadata": {},
     "output_type": "execute_result"
    }
   ],
   "source": [
    "def count_overlaps_all(data):\n",
    "    dic = {}\n",
    "    for line in data:\n",
    "        x1,y1,x2,y2 = line\n",
    "    \n",
    "        xstep = 1 if x1 < x2 else -1\n",
    "        ystep = 1 if y1 < y2 else -1\n",
    "        \n",
    "        xrange = range(x1,x2+xstep,xstep)\n",
    "        yrange = range(y1,y2+ystep,ystep)\n",
    "        \n",
    "        xrange = xrange if x1 != x2 else [x1]*len(yrange)\n",
    "        yrange = yrange if y1 != y2 else [y1]*len(xrange)\n",
    "        \n",
    "        for x,y in zip(xrange,yrange):\n",
    "            if (x,y) in dic:\n",
    "                dic[(x,y)]+=1\n",
    "            else:\n",
    "                dic[(x,y)]=1\n",
    "        \n",
    "    \n",
    "    sum_overlaps = sum(1 for i in dic.values() if i >= 2)\n",
    "    return sum_overlaps\n",
    "\n",
    "count_overlaps_all(data)"
   ]
  }
 ],
 "metadata": {
  "kernelspec": {
   "display_name": "Python 3 (ipykernel)",
   "language": "python",
   "name": "python3"
  },
  "language_info": {
   "codemirror_mode": {
    "name": "ipython",
    "version": 3
   },
   "file_extension": ".py",
   "mimetype": "text/x-python",
   "name": "python",
   "nbconvert_exporter": "python",
   "pygments_lexer": "ipython3",
   "version": "3.9.12"
  }
 },
 "nbformat": 4,
 "nbformat_minor": 5
}
