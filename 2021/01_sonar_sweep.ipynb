{
 "cells": [
  {
   "cell_type": "markdown",
   "id": "69fcf37b",
   "metadata": {},
   "source": [
    "# ADVENT OF CODE - DAY 1 - Sonar sweep "
   ]
  },
  {
   "cell_type": "code",
   "execution_count": 120,
   "id": "4c003c1c",
   "metadata": {},
   "outputs": [],
   "source": [
    "# import data\n",
    "#filename = '01_test-input.txt'\n",
    "filename = '01_input.txt'\n",
    "raw = open(f'./data/{filename}').read()"
   ]
  },
  {
   "cell_type": "code",
   "execution_count": 121,
   "id": "da9aff8e",
   "metadata": {},
   "outputs": [],
   "source": [
    "import numpy as np\n",
    "\n",
    "# define data process function\n",
    "def process(data):\n",
    "    data = data.split('\\n')\n",
    "    data = [eval(d) for d in data]\n",
    "    return data\n",
    "\n",
    "# process data\n",
    "data = process(raw)"
   ]
  },
  {
   "cell_type": "markdown",
   "id": "e2f90b19",
   "metadata": {},
   "source": [
    "### Part 1"
   ]
  },
  {
   "cell_type": "code",
   "execution_count": 122,
   "id": "7b89a9a5",
   "metadata": {},
   "outputs": [
    {
     "data": {
      "text/plain": [
       "1759"
      ]
     },
     "execution_count": 122,
     "metadata": {},
     "output_type": "execute_result"
    }
   ],
   "source": [
    "# iterate over the list, compare the neigbours, count the ones that are bigger than previous\n",
    "inc = 0\n",
    "for i in range(len(data) - 1):\n",
    "    if data[i] < data[i+1]:\n",
    "        inc += 1\n",
    "\n",
    "inc"
   ]
  },
  {
   "cell_type": "markdown",
   "id": "47e9c817",
   "metadata": {},
   "source": [
    "### Part 2"
   ]
  },
  {
   "cell_type": "code",
   "execution_count": 123,
   "id": "58ff9069",
   "metadata": {},
   "outputs": [
    {
     "data": {
      "text/plain": [
       "1805"
      ]
     },
     "execution_count": 123,
     "metadata": {},
     "output_type": "execute_result"
    }
   ],
   "source": [
    "# rolling average, sum of the ones that are bigger than their neighbour\n",
    "solution = (pd.Series(data).rolling(3).sum().dropna().diff() > 0).sum()\n",
    "solution"
   ]
  }
 ],
 "metadata": {
  "kernelspec": {
   "display_name": "Python 3 (ipykernel)",
   "language": "python",
   "name": "python3"
  },
  "language_info": {
   "codemirror_mode": {
    "name": "ipython",
    "version": 3
   },
   "file_extension": ".py",
   "mimetype": "text/x-python",
   "name": "python",
   "nbconvert_exporter": "python",
   "pygments_lexer": "ipython3",
   "version": "3.9.12"
  }
 },
 "nbformat": 4,
 "nbformat_minor": 5
}
